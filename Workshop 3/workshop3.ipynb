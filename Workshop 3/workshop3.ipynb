{
 "cells": [
  {
   "cell_type": "markdown",
   "id": "b19653de",
   "metadata": {},
   "source": [
    "<center><h1>bogaziciAI Winter Camp</h1></center>\n",
    "<center><h2>Workshop 2</h2></center>"
   ]
  },
  {
   "cell_type": "markdown",
   "id": "6d925fdf",
   "metadata": {},
   "source": [
    "<center><h3>Grading Table</h3></center>"
   ]
  },
  {
   "cell_type": "markdown",
   "id": "d77c71e6",
   "metadata": {},
   "source": [
    "<table>\n",
    "  <col>\n",
    "  <colgroup span=\"3\"></colgroup>\n",
    "  <colgroup span=\"2\"></colgroup>\n",
    "  <tr>\n",
    "    <td rowspan=\"1\"></td>\n",
    "    <th colspan=\"1\" scope=\"colgroup\">Part 1</th>>\n",
    "    <th colspan=\"1\" scope=\"colgroup\">Part 2</th>\n",
    "    <th colspan=\"1\" scope=\"colgroup\">Total</th>\n",
    "  </tr>\n",
    "  <tr>\n",
    "    <th scope=\"row\">Points</th>\n",
    "    <td>50</td>\n",
    "    <td>50</td>\n",
    "    <td>100</td>\n",
    "  </tr>\n",
    "</table>"
   ]
  },
  {
   "cell_type": "code",
   "execution_count": 1,
   "id": "7ec8318e",
   "metadata": {},
   "outputs": [],
   "source": [
    "import warnings\n",
    "warnings.filterwarnings('ignore')\n",
    "\n",
    "import numpy as np\n",
    "import matplotlib.pyplot as plt\n",
    "import seaborn as sns\n",
    "from sklearn import linear_model, preprocessing, model_selection, neighbors, cluster\n",
    "from sklearn.preprocessing import StandardScaler\n",
    "from matplotlib.pyplot import cm\n",
    "from matplotlib.colors import BoundaryNorm\n",
    "from matplotlib.ticker import MaxNLocator\n",
    "from sklearn.model_selection import train_test_split\n",
    "import pandas as pd"
   ]
  },
  {
   "cell_type": "code",
   "execution_count": 213,
   "id": "17775096",
   "metadata": {},
   "outputs": [],
   "source": [
    "from heapq import heapify, heappush, heappop\n",
    "from collections import Counter\n",
    "import sklearn"
   ]
  },
  {
   "cell_type": "markdown",
   "id": "73b1472c",
   "metadata": {},
   "source": [
    "# Part 1 - K Nearest Neighbors"
   ]
  },
  {
   "cell_type": "markdown",
   "id": "899cae5d",
   "metadata": {},
   "source": [
    "We will use the famous iris dataset in this part."
   ]
  },
  {
   "cell_type": "code",
   "execution_count": 3,
   "id": "fac0b064",
   "metadata": {},
   "outputs": [],
   "source": [
    "df = pd.read_csv('iris.data',names=['Sepal Length', 'Sepal Width', 'Petal Length', 'Petal Width', 'Class'])"
   ]
  },
  {
   "cell_type": "markdown",
   "id": "80d078fc",
   "metadata": {},
   "source": [
    "### Step 1\n",
    "\n",
    "Split the dataset into train and test sets."
   ]
  },
  {
   "cell_type": "code",
   "execution_count": 4,
   "id": "e32b08ba",
   "metadata": {},
   "outputs": [
    {
     "data": {
      "text/plain": [
       "0         Iris-setosa\n",
       "1         Iris-setosa\n",
       "2         Iris-setosa\n",
       "3         Iris-setosa\n",
       "4         Iris-setosa\n",
       "            ...      \n",
       "145    Iris-virginica\n",
       "146    Iris-virginica\n",
       "147    Iris-virginica\n",
       "148    Iris-virginica\n",
       "149    Iris-virginica\n",
       "Name: Class, Length: 150, dtype: object"
      ]
     },
     "execution_count": 4,
     "metadata": {},
     "output_type": "execute_result"
    }
   ],
   "source": [
    "y = df['Class']\n",
    "y"
   ]
  },
  {
   "cell_type": "code",
   "execution_count": 5,
   "id": "25735470",
   "metadata": {},
   "outputs": [
    {
     "data": {
      "text/html": [
       "<div>\n",
       "<style scoped>\n",
       "    .dataframe tbody tr th:only-of-type {\n",
       "        vertical-align: middle;\n",
       "    }\n",
       "\n",
       "    .dataframe tbody tr th {\n",
       "        vertical-align: top;\n",
       "    }\n",
       "\n",
       "    .dataframe thead th {\n",
       "        text-align: right;\n",
       "    }\n",
       "</style>\n",
       "<table border=\"1\" class=\"dataframe\">\n",
       "  <thead>\n",
       "    <tr style=\"text-align: right;\">\n",
       "      <th></th>\n",
       "      <th>Sepal Length</th>\n",
       "      <th>Sepal Width</th>\n",
       "      <th>Petal Length</th>\n",
       "      <th>Petal Width</th>\n",
       "    </tr>\n",
       "  </thead>\n",
       "  <tbody>\n",
       "    <tr>\n",
       "      <th>0</th>\n",
       "      <td>5.1</td>\n",
       "      <td>3.5</td>\n",
       "      <td>1.4</td>\n",
       "      <td>0.2</td>\n",
       "    </tr>\n",
       "    <tr>\n",
       "      <th>1</th>\n",
       "      <td>4.9</td>\n",
       "      <td>3.0</td>\n",
       "      <td>1.4</td>\n",
       "      <td>0.2</td>\n",
       "    </tr>\n",
       "    <tr>\n",
       "      <th>2</th>\n",
       "      <td>4.7</td>\n",
       "      <td>3.2</td>\n",
       "      <td>1.3</td>\n",
       "      <td>0.2</td>\n",
       "    </tr>\n",
       "    <tr>\n",
       "      <th>3</th>\n",
       "      <td>4.6</td>\n",
       "      <td>3.1</td>\n",
       "      <td>1.5</td>\n",
       "      <td>0.2</td>\n",
       "    </tr>\n",
       "    <tr>\n",
       "      <th>4</th>\n",
       "      <td>5.0</td>\n",
       "      <td>3.6</td>\n",
       "      <td>1.4</td>\n",
       "      <td>0.2</td>\n",
       "    </tr>\n",
       "    <tr>\n",
       "      <th>...</th>\n",
       "      <td>...</td>\n",
       "      <td>...</td>\n",
       "      <td>...</td>\n",
       "      <td>...</td>\n",
       "    </tr>\n",
       "    <tr>\n",
       "      <th>145</th>\n",
       "      <td>6.7</td>\n",
       "      <td>3.0</td>\n",
       "      <td>5.2</td>\n",
       "      <td>2.3</td>\n",
       "    </tr>\n",
       "    <tr>\n",
       "      <th>146</th>\n",
       "      <td>6.3</td>\n",
       "      <td>2.5</td>\n",
       "      <td>5.0</td>\n",
       "      <td>1.9</td>\n",
       "    </tr>\n",
       "    <tr>\n",
       "      <th>147</th>\n",
       "      <td>6.5</td>\n",
       "      <td>3.0</td>\n",
       "      <td>5.2</td>\n",
       "      <td>2.0</td>\n",
       "    </tr>\n",
       "    <tr>\n",
       "      <th>148</th>\n",
       "      <td>6.2</td>\n",
       "      <td>3.4</td>\n",
       "      <td>5.4</td>\n",
       "      <td>2.3</td>\n",
       "    </tr>\n",
       "    <tr>\n",
       "      <th>149</th>\n",
       "      <td>5.9</td>\n",
       "      <td>3.0</td>\n",
       "      <td>5.1</td>\n",
       "      <td>1.8</td>\n",
       "    </tr>\n",
       "  </tbody>\n",
       "</table>\n",
       "<p>150 rows × 4 columns</p>\n",
       "</div>"
      ],
      "text/plain": [
       "     Sepal Length  Sepal Width  Petal Length  Petal Width\n",
       "0             5.1          3.5           1.4          0.2\n",
       "1             4.9          3.0           1.4          0.2\n",
       "2             4.7          3.2           1.3          0.2\n",
       "3             4.6          3.1           1.5          0.2\n",
       "4             5.0          3.6           1.4          0.2\n",
       "..            ...          ...           ...          ...\n",
       "145           6.7          3.0           5.2          2.3\n",
       "146           6.3          2.5           5.0          1.9\n",
       "147           6.5          3.0           5.2          2.0\n",
       "148           6.2          3.4           5.4          2.3\n",
       "149           5.9          3.0           5.1          1.8\n",
       "\n",
       "[150 rows x 4 columns]"
      ]
     },
     "execution_count": 5,
     "metadata": {},
     "output_type": "execute_result"
    }
   ],
   "source": [
    "X = df\n",
    "X.drop(['Class'], axis = 1, inplace = True)\n",
    "X"
   ]
  },
  {
   "cell_type": "code",
   "execution_count": 104,
   "id": "5c1a47c8",
   "metadata": {},
   "outputs": [],
   "source": [
    "X_training, X_test, y_training, y_test = train_test_split(X, y, test_size=0.25, random_state=1)"
   ]
  },
  {
   "cell_type": "markdown",
   "id": "2fd33fae",
   "metadata": {},
   "source": [
    "### Step 2\n",
    "\n",
    "Standardize the dataset"
   ]
  },
  {
   "cell_type": "code",
   "execution_count": 105,
   "id": "6cfc4c57",
   "metadata": {},
   "outputs": [],
   "source": [
    "scaler = preprocessing.StandardScaler().fit(X_training)\n",
    "X_training_scaled = scaler.transform(X_training)\n",
    "X_test_scaled = scaler.transform(X_test)"
   ]
  },
  {
   "cell_type": "markdown",
   "id": "d428b10a",
   "metadata": {},
   "source": [
    "### Step 3\n",
    "\n",
    "Write your custom KNN class"
   ]
  },
  {
   "cell_type": "code",
   "execution_count": 106,
   "id": "6bc7be5d",
   "metadata": {},
   "outputs": [],
   "source": [
    "class CustomKNN:\n",
    "    def __init__(self):\n",
    "        pass\n",
    "\n",
    "    def fit(self, X, y, k):\n",
    "        self.X = X\n",
    "        self.y = y\n",
    "        self.k = k\n",
    "\n",
    "    def predict(self, X_test_point):\n",
    "        heap = []\n",
    "        heapify(heap)\n",
    "        for i in range(self.X.shape[0]):\n",
    "            heappush(heap, (self.euclidean_distance(self.X[i], X_test_point), self.y.values[i]))\n",
    "        neighbors_arr = []\n",
    "        for j in range(self.k):\n",
    "            neighbors_arr.append(heappop(heap)[1])\n",
    "        return self.most_common_element(neighbors_arr)\n",
    "\n",
    "    def score(self, X_test, y_test):\n",
    "        test_size = X_test.shape[0]\n",
    "        accurate = 0\n",
    "        for i in range(test_size):\n",
    "            if self.predict(X_test[i]) == y_test.values[i]:\n",
    "                accurate += 1\n",
    "        return accurate / test_size\n",
    "\n",
    "    def most_common_element(self, arr):\n",
    "        data = Counter(arr)\n",
    "        return data.most_common(1)[0][0]\n",
    "    \n",
    "    def euclidean_distance(self, x1, x2):\n",
    "        return np.sum((x1 - x2)**2)"
   ]
  },
  {
   "cell_type": "markdown",
   "id": "9a2b3047",
   "metadata": {},
   "source": [
    "### Step 4\n",
    "\n",
    "Fit the training data to model"
   ]
  },
  {
   "cell_type": "code",
   "execution_count": 112,
   "id": "3557f911",
   "metadata": {},
   "outputs": [],
   "source": [
    "myKNN = CustomKNN()\n",
    "myKNN.fit(X_training_scaled, y_training, 5)"
   ]
  },
  {
   "cell_type": "markdown",
   "id": "80c69267",
   "metadata": {},
   "source": [
    "### Step 5\n",
    "\n",
    "Evaluate the accuracy"
   ]
  },
  {
   "cell_type": "code",
   "execution_count": 113,
   "id": "1da53f11",
   "metadata": {},
   "outputs": [
    {
     "data": {
      "text/plain": [
       "0.9736842105263158"
      ]
     },
     "execution_count": 113,
     "metadata": {},
     "output_type": "execute_result"
    }
   ],
   "source": [
    "myKNN.score(X_test_scaled, y_test)"
   ]
  },
  {
   "cell_type": "code",
   "execution_count": 114,
   "id": "e3a874c2",
   "metadata": {},
   "outputs": [
    {
     "name": "stdout",
     "output_type": "stream",
     "text": [
      "k: 1, score: 0.9736842105263158\n",
      "k: 2, score: 0.9736842105263158\n",
      "k: 3, score: 1.0\n",
      "k: 4, score: 0.9736842105263158\n",
      "k: 5, score: 0.9736842105263158\n",
      "k: 6, score: 0.9736842105263158\n",
      "k: 7, score: 0.9736842105263158\n",
      "k: 8, score: 0.9736842105263158\n",
      "k: 9, score: 1.0\n",
      "k: 10, score: 1.0\n"
     ]
    }
   ],
   "source": [
    "for i in range(1, 11):\n",
    "    myKNN.fit(X_training_scaled, y_training, i)\n",
    "    print(f\"k: {i}, score: {myKNN.score(X_test_scaled, y_test)}\")"
   ]
  },
  {
   "cell_type": "markdown",
   "id": "a0a125c0",
   "metadata": {},
   "source": [
    "### Step 6\n",
    "\n",
    "Use sklearn's KNN classifier and compare the results"
   ]
  },
  {
   "cell_type": "code",
   "execution_count": 110,
   "id": "d9865461",
   "metadata": {},
   "outputs": [],
   "source": [
    "from sklearn.neighbors import KNeighborsClassifier"
   ]
  },
  {
   "cell_type": "code",
   "execution_count": 121,
   "id": "716b4793",
   "metadata": {},
   "outputs": [
    {
     "name": "stdout",
     "output_type": "stream",
     "text": [
      "k: 1 CustomKNN: 0.9736842105263158 sklearn: 0.9736842105263158\n",
      "k: 2 CustomKNN: 0.9736842105263158 sklearn: 0.9736842105263158\n",
      "k: 3 CustomKNN: 1.0 sklearn: 1.0\n",
      "k: 4 CustomKNN: 0.9736842105263158 sklearn: 1.0\n",
      "k: 5 CustomKNN: 0.9736842105263158 sklearn: 0.9736842105263158\n",
      "k: 6 CustomKNN: 0.9736842105263158 sklearn: 1.0\n",
      "k: 7 CustomKNN: 0.9736842105263158 sklearn: 0.9736842105263158\n",
      "k: 8 CustomKNN: 0.9736842105263158 sklearn: 1.0\n",
      "k: 9 CustomKNN: 1.0 sklearn: 1.0\n",
      "k: 10 CustomKNN: 1.0 sklearn: 1.0\n"
     ]
    },
    {
     "data": {
      "text/plain": [
       "[<matplotlib.lines.Line2D at 0x7fb929d72610>]"
      ]
     },
     "execution_count": 121,
     "metadata": {},
     "output_type": "execute_result"
    },
    {
     "data": {
      "image/png": "[encoded data removed]",
      "text/plain": [
       "<Figure size 640x480 with 1 Axes>"
      ]
     },
     "metadata": {},
     "output_type": "display_data"
    }
   ],
   "source": [
    "custom_scores = []\n",
    "sklearn_scores = []\n",
    "for i in range(1, 11):\n",
    "    myKNN.fit(X_training_scaled, y_training, i)\n",
    "    classifier = KNeighborsClassifier(n_neighbors=i)\n",
    "    classifier.fit(X_training_scaled, y_training)\n",
    "    custom_score = myKNN.score(X_test_scaled, y_test)\n",
    "    sklearn_score = classifier.score(X_test_scaled, y_test)\n",
    "    custom_scores.append(custom_score)\n",
    "    sklearn_scores.append(sklearn_score)\n",
    "    print(f\"k: {i} CustomKNN: {custom_score} sklearn: {sklearn_score}\")\n",
    "plt.plot(custom_scores)\n",
    "plt.plot(sklearn_scores)"
   ]
  },
  {
   "cell_type": "markdown",
   "id": "b9856d05",
   "metadata": {},
   "source": [
    "### Step 7\n",
    "\n",
    "We have gathered 5 unknown samples below. Predict which sample belongs to which category. <br>\n",
    "*Hint: You can use classifier.predict(x) method.* <br>\n",
    "**Extra:** Indicate the probability of prediction.\n",
    "\n",
    "\n",
    "| Sepal Length | Sepal Width | Petal Length | Petal Width | Class | \n",
    "| :-: | :-: | :-: | :-: | :-: |\n",
    "| 4.5 | 3.0 | 1.5 | 0.5 | Unknown |\n",
    "| 7.0 | 3.0 | 5.0 | 1.5 | Unknown |\n",
    "| 6.0 | 2.5 | 5.0 | 2.0 | Unknown |\n",
    "| 7.0 | 3.0 | 4.5 | 1.0 | Unknown |\n",
    "| 6.0 | 2.0 | 5.0 | 1.5 | Unknown |"
   ]
  },
  {
   "cell_type": "code",
   "execution_count": 127,
   "id": "82c44cb6",
   "metadata": {},
   "outputs": [
    {
     "name": "stdout",
     "output_type": "stream",
     "text": [
      "CustomKNN: Iris-setosa sklearn: Iris-setosa\n",
      "CustomKNN: Iris-versicolor sklearn: Iris-versicolor\n",
      "CustomKNN: Iris-virginica sklearn: Iris-virginica\n",
      "CustomKNN: Iris-versicolor sklearn: Iris-versicolor\n",
      "CustomKNN: Iris-versicolor sklearn: Iris-versicolor\n"
     ]
    }
   ],
   "source": [
    "X_new_test = [[4.5, 3.0, 1.5, 0.5], [7.0, 3.0, 5.0, 1.5], [6.0, 2.5, 5.0, 2.0], [7.0, 3.0, 4.5, 1.0], [6.0, 2.0, 5.0, 1.5]]\n",
    "X_new_test_scaled = scaler.transform(X_new_test)\n",
    "sklearn_arr = classifier.predict(X_new_test_scaled)\n",
    "for i, data_point in enumerate(X_new_test_scaled):\n",
    "    print(f\"CustomKNN: {myKNN.predict(data_point)} sklearn: {sklearn_arr[i]}\")"
   ]
  },
  {
   "cell_type": "markdown",
   "id": "6e31f19e",
   "metadata": {},
   "source": [
    "# Part 2 - K-Means Clustering"
   ]
  },
  {
   "cell_type": "markdown",
   "id": "73deac3d",
   "metadata": {},
   "source": [
    "## Dataset\n",
    "<br>\n",
    "We use dataset from https://www.kaggle.com/kandij/mall-customers throughout this notebook."
   ]
  },
  {
   "cell_type": "code",
   "execution_count": 196,
   "id": "51a980d4",
   "metadata": {},
   "outputs": [
    {
     "data": {
      "text/html": [
       "<div>\n",
       "<style scoped>\n",
       "    .dataframe tbody tr th:only-of-type {\n",
       "        vertical-align: middle;\n",
       "    }\n",
       "\n",
       "    .dataframe tbody tr th {\n",
       "        vertical-align: top;\n",
       "    }\n",
       "\n",
       "    .dataframe thead th {\n",
       "        text-align: right;\n",
       "    }\n",
       "</style>\n",
       "<table border=\"1\" class=\"dataframe\">\n",
       "  <thead>\n",
       "    <tr style=\"text-align: right;\">\n",
       "      <th></th>\n",
       "      <th>Gender</th>\n",
       "      <th>Age</th>\n",
       "      <th>Annual Income (k$)</th>\n",
       "      <th>Spending Score (1-100)</th>\n",
       "    </tr>\n",
       "  </thead>\n",
       "  <tbody>\n",
       "    <tr>\n",
       "      <th>0</th>\n",
       "      <td>0</td>\n",
       "      <td>19</td>\n",
       "      <td>15</td>\n",
       "      <td>39</td>\n",
       "    </tr>\n",
       "    <tr>\n",
       "      <th>1</th>\n",
       "      <td>0</td>\n",
       "      <td>21</td>\n",
       "      <td>15</td>\n",
       "      <td>81</td>\n",
       "    </tr>\n",
       "    <tr>\n",
       "      <th>2</th>\n",
       "      <td>1</td>\n",
       "      <td>20</td>\n",
       "      <td>16</td>\n",
       "      <td>6</td>\n",
       "    </tr>\n",
       "    <tr>\n",
       "      <th>3</th>\n",
       "      <td>1</td>\n",
       "      <td>23</td>\n",
       "      <td>16</td>\n",
       "      <td>77</td>\n",
       "    </tr>\n",
       "    <tr>\n",
       "      <th>4</th>\n",
       "      <td>1</td>\n",
       "      <td>31</td>\n",
       "      <td>17</td>\n",
       "      <td>40</td>\n",
       "    </tr>\n",
       "  </tbody>\n",
       "</table>\n",
       "</div>"
      ],
      "text/plain": [
       "   Gender  Age  Annual Income (k$)  Spending Score (1-100)\n",
       "0       0   19                  15                      39\n",
       "1       0   21                  15                      81\n",
       "2       1   20                  16                       6\n",
       "3       1   23                  16                      77\n",
       "4       1   31                  17                      40"
      ]
     },
     "execution_count": 196,
     "metadata": {},
     "output_type": "execute_result"
    }
   ],
   "source": [
    "df = pd.read_csv(\"segmented_customers-2.csv\")\n",
    "df[\"Gender\"] = df[\"Gender\"].replace({\"Male\": 0, \"Female\": 1})\n",
    "df.head()"
   ]
  },
  {
   "cell_type": "markdown",
   "id": "4449b1e6",
   "metadata": {},
   "source": [
    "### Step 1\n",
    "<br>\n",
    "For this part, we will only use Age and Spending Score columns.\n",
    "<br>\n",
    "Plot the dataframe so that \"Age\" column is on the x axis and \"Spending Score (1-100)\" is on the y axis."
   ]
  },
  {
   "cell_type": "code",
   "execution_count": 197,
   "id": "9ec73fd0",
   "metadata": {},
   "outputs": [
    {
     "data": {
      "text/html": [
       "<div>\n",
       "<style scoped>\n",
       "    .dataframe tbody tr th:only-of-type {\n",
       "        vertical-align: middle;\n",
       "    }\n",
       "\n",
       "    .dataframe tbody tr th {\n",
       "        vertical-align: top;\n",
       "    }\n",
       "\n",
       "    .dataframe thead th {\n",
       "        text-align: right;\n",
       "    }\n",
       "</style>\n",
       "<table border=\"1\" class=\"dataframe\">\n",
       "  <thead>\n",
       "    <tr style=\"text-align: right;\">\n",
       "      <th></th>\n",
       "      <th>Age</th>\n",
       "      <th>Spending Score (1-100)</th>\n",
       "    </tr>\n",
       "  </thead>\n",
       "  <tbody>\n",
       "    <tr>\n",
       "      <th>0</th>\n",
       "      <td>19</td>\n",
       "      <td>39</td>\n",
       "    </tr>\n",
       "    <tr>\n",
       "      <th>1</th>\n",
       "      <td>21</td>\n",
       "      <td>81</td>\n",
       "    </tr>\n",
       "    <tr>\n",
       "      <th>2</th>\n",
       "      <td>20</td>\n",
       "      <td>6</td>\n",
       "    </tr>\n",
       "    <tr>\n",
       "      <th>3</th>\n",
       "      <td>23</td>\n",
       "      <td>77</td>\n",
       "    </tr>\n",
       "    <tr>\n",
       "      <th>4</th>\n",
       "      <td>31</td>\n",
       "      <td>40</td>\n",
       "    </tr>\n",
       "  </tbody>\n",
       "</table>\n",
       "</div>"
      ],
      "text/plain": [
       "   Age  Spending Score (1-100)\n",
       "0   19                      39\n",
       "1   21                      81\n",
       "2   20                       6\n",
       "3   23                      77\n",
       "4   31                      40"
      ]
     },
     "execution_count": 197,
     "metadata": {},
     "output_type": "execute_result"
    }
   ],
   "source": [
    "df.drop([\"Gender\", \"Annual Income (k$)\"], axis = 1, inplace = True)\n",
    "df.head()"
   ]
  },
  {
   "cell_type": "code",
   "execution_count": 199,
   "id": "d5c1426d",
   "metadata": {},
   "outputs": [
    {
     "data": {
      "text/plain": [
       "array([[-1.42456879, -0.43480148],\n",
       "       [-1.28103541,  1.19570407],\n",
       "       [-1.3528021 , -1.71591298],\n",
       "       [-1.13750203,  1.04041783],\n",
       "       [-0.56336851, -0.39597992],\n",
       "       [-1.20926872,  1.00159627],\n",
       "       [-0.27630176, -1.71591298],\n",
       "       [-1.13750203,  1.70038436],\n",
       "       [ 1.80493225, -1.83237767],\n",
       "       [-0.6351352 ,  0.84631002],\n",
       "       [ 2.02023231, -1.4053405 ],\n",
       "       [-0.27630176,  1.89449216],\n",
       "       [ 1.37433211, -1.36651894],\n",
       "       [-1.06573534,  1.04041783],\n",
       "       [-0.13276838, -1.44416206],\n",
       "       [-1.20926872,  1.11806095],\n",
       "       [-0.27630176, -0.59008772],\n",
       "       [-1.3528021 ,  0.61338066],\n",
       "       [ 0.94373197, -0.82301709],\n",
       "       [-0.27630176,  1.8556706 ],\n",
       "       [-0.27630176, -0.59008772],\n",
       "       [-0.99396865,  0.88513158],\n",
       "       [ 0.51313183, -1.75473454],\n",
       "       [-0.56336851,  0.88513158],\n",
       "       [ 1.08726535, -1.4053405 ],\n",
       "       [-0.70690189,  1.23452563],\n",
       "       [ 0.44136514, -0.7065524 ],\n",
       "       [-0.27630176,  0.41927286],\n",
       "       [ 0.08253169, -0.74537397],\n",
       "       [-1.13750203,  1.42863343],\n",
       "       [ 1.51786549, -1.7935561 ],\n",
       "       [-1.28103541,  0.88513158],\n",
       "       [ 1.01549866, -1.7935561 ],\n",
       "       [-1.49633548,  1.62274124],\n",
       "       [ 0.7284319 , -1.4053405 ],\n",
       "       [-1.28103541,  1.19570407],\n",
       "       [ 0.22606507, -1.28887582],\n",
       "       [-0.6351352 ,  0.88513158],\n",
       "       [-0.20453507, -0.93948177],\n",
       "       [-1.3528021 ,  0.96277471],\n",
       "       [ 1.87669894, -0.59008772],\n",
       "       [-1.06573534,  1.62274124],\n",
       "       [ 0.65666521, -0.55126616],\n",
       "       [-0.56336851,  0.41927286],\n",
       "       [ 0.7284319 , -0.86183865],\n",
       "       [-1.06573534,  0.5745591 ],\n",
       "       [ 0.80019859,  0.18634349],\n",
       "       [-0.85043527, -0.12422899],\n",
       "       [-0.70690189, -0.3183368 ],\n",
       "       [-0.56336851, -0.3183368 ],\n",
       "       [ 0.7284319 ,  0.06987881],\n",
       "       [-0.41983513,  0.38045129],\n",
       "       [-0.56336851,  0.14752193],\n",
       "       [ 1.4460988 ,  0.38045129],\n",
       "       [ 0.80019859, -0.20187212],\n",
       "       [ 0.58489852, -0.35715836],\n",
       "       [ 0.87196528, -0.00776431],\n",
       "       [ 2.16376569, -0.16305055],\n",
       "       [-0.85043527,  0.03105725],\n",
       "       [ 1.01549866, -0.16305055],\n",
       "       [ 2.23553238,  0.22516505],\n",
       "       [-1.42456879,  0.18634349],\n",
       "       [ 2.02023231,  0.06987881],\n",
       "       [ 1.08726535,  0.34162973],\n",
       "       [ 1.73316556,  0.03105725],\n",
       "       [-1.49633548,  0.34162973],\n",
       "       [ 0.29783176, -0.00776431],\n",
       "       [ 2.091999  , -0.08540743],\n",
       "       [-1.42456879,  0.34162973],\n",
       "       [-0.49160182, -0.12422899],\n",
       "       [ 2.23553238,  0.18634349],\n",
       "       [ 0.58489852, -0.3183368 ],\n",
       "       [ 1.51786549, -0.04658587],\n",
       "       [ 1.51786549,  0.22516505],\n",
       "       [ 1.4460988 , -0.12422899],\n",
       "       [-0.92220196,  0.14752193],\n",
       "       [ 0.44136514,  0.10870037],\n",
       "       [ 0.08253169, -0.08540743],\n",
       "       [-1.13750203,  0.06987881],\n",
       "       [ 0.7284319 , -0.3183368 ],\n",
       "       [ 1.30256542,  0.03105725],\n",
       "       [-0.06100169,  0.18634349],\n",
       "       [ 2.02023231, -0.35715836],\n",
       "       [ 0.51313183, -0.24069368],\n",
       "       [-1.28103541,  0.26398661],\n",
       "       [ 0.65666521, -0.16305055],\n",
       "       [ 1.15903204,  0.30280817],\n",
       "       [-1.20926872,  0.18634349],\n",
       "       [-0.34806844,  0.38045129],\n",
       "       [ 0.80019859, -0.16305055],\n",
       "       [ 2.091999  ,  0.18634349],\n",
       "       [-1.49633548, -0.35715836],\n",
       "       [ 0.65666521, -0.04658587],\n",
       "       [ 0.08253169, -0.39597992],\n",
       "       [-0.49160182, -0.3183368 ],\n",
       "       [-1.06573534,  0.06987881],\n",
       "       [ 0.58489852, -0.12422899],\n",
       "       [-0.85043527, -0.00776431],\n",
       "       [ 0.65666521, -0.3183368 ],\n",
       "       [-1.3528021 , -0.04658587],\n",
       "       [-1.13750203, -0.35715836],\n",
       "       [ 0.7284319 , -0.08540743],\n",
       "       [ 2.02023231,  0.34162973],\n",
       "       [-0.92220196,  0.18634349],\n",
       "       [ 0.7284319 ,  0.22516505],\n",
       "       [-1.28103541, -0.3183368 ],\n",
       "       [ 1.94846562, -0.00776431],\n",
       "       [ 1.08726535, -0.16305055],\n",
       "       [ 2.091999  , -0.27951524],\n",
       "       [ 1.94846562, -0.08540743],\n",
       "       [ 1.87669894,  0.06987881],\n",
       "       [-1.42456879,  0.14752193],\n",
       "       [-0.06100169, -0.3183368 ],\n",
       "       [-1.42456879, -0.16305055],\n",
       "       [-1.49633548, -0.08540743],\n",
       "       [-1.42456879, -0.00776431],\n",
       "       [ 1.73316556, -0.27951524],\n",
       "       [ 0.7284319 ,  0.34162973],\n",
       "       [ 0.87196528, -0.27951524],\n",
       "       [ 0.80019859,  0.26398661],\n",
       "       [-0.85043527,  0.22516505],\n",
       "       [-0.06100169, -0.39597992],\n",
       "       [ 0.08253169,  0.30280817],\n",
       "       [ 0.010765  ,  1.58391968],\n",
       "       [-1.13750203, -0.82301709],\n",
       "       [-0.56336851,  1.04041783],\n",
       "       [ 0.29783176, -0.59008772],\n",
       "       [ 0.08253169,  1.73920592],\n",
       "       [ 1.4460988 , -1.52180518],\n",
       "       [-0.06100169,  0.96277471],\n",
       "       [ 0.58489852, -1.5994483 ],\n",
       "       [ 0.010765  ,  0.96277471],\n",
       "       [-0.99396865, -0.62890928],\n",
       "       [-0.56336851,  0.80748846],\n",
       "       [-1.3528021 , -1.75473454],\n",
       "       [-0.70690189,  1.46745499],\n",
       "       [ 0.36959845, -1.67709142],\n",
       "       [-0.49160182,  0.88513158],\n",
       "       [-1.42456879, -1.56062674],\n",
       "       [-0.27630176,  0.84631002],\n",
       "       [ 1.30256542, -1.75473454],\n",
       "       [-0.49160182,  1.6615628 ],\n",
       "       [-0.77866858, -0.39597992],\n",
       "       [-0.49160182,  1.42863343],\n",
       "       [-0.99396865, -1.48298362],\n",
       "       [-0.77866858,  1.81684904],\n",
       "       [ 0.65666521, -0.55126616],\n",
       "       [-0.49160182,  0.92395314],\n",
       "       [-0.34806844, -1.09476801],\n",
       "       [-0.34806844,  1.54509812],\n",
       "       [ 0.29783176, -1.28887582],\n",
       "       [ 0.010765  ,  1.46745499],\n",
       "       [ 0.36959845, -1.17241113],\n",
       "       [-0.06100169,  1.00159627],\n",
       "       [ 0.58489852, -1.32769738],\n",
       "       [-0.85043527,  1.50627656],\n",
       "       [-0.13276838, -1.91002079],\n",
       "       [-0.6351352 ,  1.07923939],\n",
       "       [-0.34806844, -1.91002079],\n",
       "       [-0.6351352 ,  0.88513158],\n",
       "       [ 1.23079873, -0.59008772],\n",
       "       [-0.70690189,  1.27334719],\n",
       "       [-1.42456879, -1.75473454],\n",
       "       [-0.56336851,  1.6615628 ],\n",
       "       [ 0.80019859, -0.93948177],\n",
       "       [-0.20453507,  0.96277471],\n",
       "       [ 0.22606507, -1.17241113],\n",
       "       [-0.41983513,  1.73920592],\n",
       "       [-0.20453507, -0.90066021],\n",
       "       [-0.49160182,  0.49691598],\n",
       "       [ 0.08253169, -1.44416206],\n",
       "       [-0.77866858,  0.96277471],\n",
       "       [-0.20453507, -1.56062674],\n",
       "       [-0.20453507,  1.62274124],\n",
       "       [ 0.94373197, -1.44416206],\n",
       "       [-0.6351352 ,  1.38981187],\n",
       "       [ 1.37433211, -1.36651894],\n",
       "       [-0.85043527,  0.72984534],\n",
       "       [ 1.4460988 , -1.4053405 ],\n",
       "       [-0.27630176,  1.54509812],\n",
       "       [-0.13276838, -0.7065524 ],\n",
       "       [-0.49160182,  1.38981187],\n",
       "       [ 0.51313183, -1.36651894],\n",
       "       [-0.70690189,  1.46745499],\n",
       "       [ 0.15429838, -0.43480148],\n",
       "       [-0.6351352 ,  1.81684904],\n",
       "       [ 1.08726535, -1.01712489],\n",
       "       [-0.77866858,  0.69102378],\n",
       "       [ 0.15429838, -1.28887582],\n",
       "       [-0.20453507,  1.35099031],\n",
       "       [-0.34806844, -1.05594645],\n",
       "       [-0.49160182,  0.72984534],\n",
       "       [-0.41983513, -1.63826986],\n",
       "       [-0.06100169,  1.58391968],\n",
       "       [ 0.58489852, -1.32769738],\n",
       "       [-0.27630176,  1.11806095],\n",
       "       [ 0.44136514, -0.86183865],\n",
       "       [-0.49160182,  0.92395314],\n",
       "       [-0.49160182, -1.25005425],\n",
       "       [-0.6351352 ,  1.27334719]])"
      ]
     },
     "execution_count": 199,
     "metadata": {},
     "output_type": "execute_result"
    }
   ],
   "source": [
    "scaler2 = preprocessing.StandardScaler().fit(df)\n",
    "df_scaled = scaler2.transform(df)\n",
    "df_scaled"
   ]
  },
  {
   "cell_type": "code",
   "execution_count": 201,
   "id": "a8847594",
   "metadata": {},
   "outputs": [
    {
     "data": {
      "image/png": "[encoded data removed]",
      "text/plain": [
       "<Figure size 640x480 with 1 Axes>"
      ]
     },
     "metadata": {},
     "output_type": "display_data"
    }
   ],
   "source": [
    "plt.scatter(df_scaled[:,0], df_scaled[:,1])\n",
    "plt.xlabel(\"Age\")\n",
    "plt.ylabel(\"Spending Score(1-100)\")\n",
    "plt.show()"
   ]
  },
  {
   "cell_type": "markdown",
   "id": "ebc0eb14",
   "metadata": {},
   "source": [
    "### Step 2\n",
    "<br>\n",
    "Implement your own simple Kmeans algorithm without using pre-implemented libraries for KMeans. You can \n",
    "refer to the structure below while structuring your code. You do not have to use the same structure. \n",
    "Any type of initialization method for your centroids is accepted. You will solely be graded on whether or not your algorithm performs as expected, we will not take the accuracy into account as long as the algorithm gives meaningful results."
   ]
  },
  {
   "cell_type": "code",
   "execution_count": 177,
   "id": "f704d0d6",
   "metadata": {},
   "outputs": [
    {
     "data": {
      "text/plain": [
       "[[], [], []]"
      ]
     },
     "execution_count": 177,
     "metadata": {},
     "output_type": "execute_result"
    }
   ],
   "source": [
    "arr = [[] for i in range(3)]\n",
    "arr"
   ]
  },
  {
   "cell_type": "code",
   "execution_count": 181,
   "id": "63ca6f92",
   "metadata": {},
   "outputs": [],
   "source": [
    "def initialization(data, k):\n",
    "    return data[np.random.choice(data.shape[0], k, replace=False), :]\n",
    "\n",
    "\n",
    "def kmeans_loss(cluster_arr, centroids):\n",
    "    total_loss = 0\n",
    "    for i, cluster in enumerate(cluster_arr):\n",
    "        for point in cluster:\n",
    "            total_loss += point_distance(point, centroids[i])\n",
    "    return total_loss\n",
    "\n",
    "\n",
    "def kmeans(data, k):\n",
    "    centroids = initialization(data, k)\n",
    "    while True:\n",
    "        cluster_arr = [[] for i in range(k)]\n",
    "        for data_point in data:\n",
    "            min_distance = np.Infinity\n",
    "            min_distance_index = 0\n",
    "            for j in range(k):\n",
    "                p_distance = point_distance(centroids[j], data_point)\n",
    "                if p_distance < min_distance:\n",
    "                    min_distance = p_distance\n",
    "                    min_distance_index = j\n",
    "            cluster_arr[min_distance_index].append(data_point)\n",
    "        new_centroids = [np.mean(cluster, axis=0) for cluster in cluster_arr]\n",
    "        if np.array_equal(centroids, new_centroids):\n",
    "            break\n",
    "        centroids = new_centroids\n",
    "    return cluster_arr, centroids\n",
    "        \n",
    "\n",
    "def point_distance(p1, p2):\n",
    "    return np.sum((p1 - p2)**2)**0.5\n",
    "            \n",
    "        \n",
    "\n"
   ]
  },
  {
   "cell_type": "markdown",
   "id": "f752266e",
   "metadata": {},
   "source": [
    "### Step 3\n",
    "<br>\n",
    "After you complete your algorithm, test it for number of clusters between 1-15. Use elbow method to decide on the\n",
    "best number of clusters. For the best number of clusters you chose, visualize the clusters and centroids. Comment on your results, what improvements can be made on the algorithm?"
   ]
  },
  {
   "cell_type": "code",
   "execution_count": 182,
   "id": "38797a42",
   "metadata": {},
   "outputs": [
    {
     "name": "stdout",
     "output_type": "stream",
     "text": [
      "121.76896385820457\n"
     ]
    }
   ],
   "source": [
    "cluster_arr, centroids = kmeans(df_scaled, 4)\n",
    "print(kmeans_loss(cluster_arr, centroids))"
   ]
  },
  {
   "cell_type": "code",
   "execution_count": 226,
   "id": "ba49d965",
   "metadata": {},
   "outputs": [],
   "source": [
    "loss_arr = []\n",
    "for i in range(1, 16):\n",
    "    temp_loss_arr = []\n",
    "    for j in range(10):\n",
    "        cluster_arr, centroids = kmeans(df_scaled, i)\n",
    "        temp_loss_arr.append(kmeans_loss(cluster_arr, centroids))\n",
    "    loss_arr.append(min(temp_loss_arr))"
   ]
  },
  {
   "cell_type": "code",
   "execution_count": 227,
   "id": "93836b5f",
   "metadata": {},
   "outputs": [
    {
     "data": {
      "image/png": "[encoded data removed]",
      "text/plain": [
       "<Figure size 640x480 with 1 Axes>"
      ]
     },
     "metadata": {},
     "output_type": "display_data"
    }
   ],
   "source": [
    "plt.plot(range(1,16), loss_arr)\n",
    "plt.show()"
   ]
  },
  {
   "cell_type": "code",
   "execution_count": 228,
   "id": "1bbc4e3b",
   "metadata": {},
   "outputs": [],
   "source": [
    "cluster_arr, centroids = kmeans(df_scaled, 4)"
   ]
  },
  {
   "cell_type": "code",
   "execution_count": 229,
   "id": "aef35591",
   "metadata": {},
   "outputs": [
    {
     "data": {
      "image/png": "[encoded data removed]",
      "text/plain": [
       "<Figure size 1200x800 with 1 Axes>"
      ]
     },
     "metadata": {},
     "output_type": "display_data"
    }
   ],
   "source": [
    "fig, ax = plt.subplots(figsize=(12,8))\n",
    "color = cm.rainbow(np.linspace(0, 1, 4))\n",
    "\n",
    "for i, cluster in enumerate(cluster_arr):\n",
    "    for point in cluster:\n",
    "        ax.scatter(point[0], point[1], color = color[i])\n",
    "\n",
    "for centroid in centroids:\n",
    "    ax.scatter(centroid[0], centroid[1], marker='x', color='black', linewidth=3)\n",
    "plt.show()"
   ]
  },
  {
   "cell_type": "markdown",
   "id": "a068c4b5",
   "metadata": {},
   "source": [
    "### Step 4\n",
    "<br>\n",
    "Use scikit-learn's KMeans class to compare your results with the optimized KMeans algrorithm. Compare it for number of clusters between 1-15 and plot the inertias (hint: you can use scikit-learn's \"inertia_\" parameter.). Comment on your results.  "
   ]
  },
  {
   "cell_type": "code",
   "execution_count": 230,
   "id": "f22457e7",
   "metadata": {},
   "outputs": [],
   "source": [
    "scikit_loss_arr = []\n",
    "for i in range(1, 16):\n",
    "    temp_loss_arr = []\n",
    "    for j in range(10):\n",
    "        scikit_clustering=sklearn.cluster.KMeans(n_clusters=i)\n",
    "        scikit_clusters = scikit_clustering.fit_predict(df_scaled)\n",
    "        temp_loss_arr.append(scikit_clustering.inertia_)\n",
    "    scikit_loss_arr.append(min(temp_loss_arr))"
   ]
  },
  {
   "cell_type": "code",
   "execution_count": 233,
   "id": "2e755660",
   "metadata": {},
   "outputs": [],
   "source": [
    "scikit_clustering=sklearn.cluster.KMeans(n_clusters=4)\n",
    "sp_scikit_clusters = scikit_clustering.fit_predict(df_scaled)\n",
    "sp_scikit_centroids = scikit_clustering.cluster_centers_"
   ]
  },
  {
   "cell_type": "code",
   "execution_count": 243,
   "id": "ccc65880",
   "metadata": {},
   "outputs": [
    {
     "data": {
      "text/plain": [
       "[array([-0.61415725,  1.14971545]),\n",
       " array([ 0.62833625, -1.36651894]),\n",
       " array([-0.8346466 , -0.39442706]),\n",
       " array([ 1.22927178, -0.06558366])]"
      ]
     },
     "execution_count": 243,
     "metadata": {},
     "output_type": "execute_result"
    }
   ],
   "source": [
    "centroids"
   ]
  },
  {
   "cell_type": "code",
   "execution_count": 242,
   "id": "ed97f625",
   "metadata": {},
   "outputs": [
    {
     "data": {
      "text/plain": [
       "array([[ 0.62833625, -1.36651894],\n",
       "       [-0.61415725,  1.14971545],\n",
       "       [-0.8346466 , -0.39442706],\n",
       "       [ 1.22927178, -0.06558366]])"
      ]
     },
     "execution_count": 242,
     "metadata": {},
     "output_type": "execute_result"
    }
   ],
   "source": [
    "sp_scikit_centroids"
   ]
  },
  {
   "cell_type": "code",
   "execution_count": 241,
   "id": "39697b01",
   "metadata": {},
   "outputs": [
    {
     "data": {
      "image/png": "[encoded data removed]",
      "text/plain": [
       "<Figure size 640x480 with 1 Axes>"
      ]
     },
     "metadata": {},
     "output_type": "display_data"
    }
   ],
   "source": [
    "for i, point in enumerate(df_scaled):\n",
    "    plt.scatter(point[0], point[1], color = color[scikit_clustering.labels_[i]])\n",
    "\n",
    "for centroid in sp_scikit_centroids:\n",
    "    plt.scatter(centroid[0], centroid[1], marker='x', color='black', linewidth=3)\n",
    "plt.show()"
   ]
  },
  {
   "cell_type": "code",
   "execution_count": 232,
   "id": "781eaca8",
   "metadata": {},
   "outputs": [
    {
     "data": {
      "image/png": "[encoded data removed]",
      "text/plain": [
       "<Figure size 640x480 with 1 Axes>"
      ]
     },
     "metadata": {},
     "output_type": "display_data"
    }
   ],
   "source": [
    "plt.plot(range(1,16), loss_arr, label='My Loss')\n",
    "plt.plot(range(1,16), scikit_loss_arr, label='sklearn Loss')\n",
    "plt.legend()\n",
    "plt.show()"
   ]
  }
 ],
 "metadata": {
  "kernelspec": {
   "display_name": "Python 3",
   "language": "python",
   "name": "python3"
  },
  "language_info": {
   "codemirror_mode": {
    "name": "ipython",
    "version": 3
   },
   "file_extension": ".py",
   "mimetype": "text/x-python",
   "name": "python",
   "nbconvert_exporter": "python",
   "pygments_lexer": "ipython3",
   "version": "3.8.6"
  },
  "vscode": {
   "interpreter": {
    "hash": "aee8b7b246df8f9039afb4144a1f6fd8d2ca17a180786b69acc140d282b71a49"
   }
  }
 },
 "nbformat": 4,
 "nbformat_minor": 5
}
